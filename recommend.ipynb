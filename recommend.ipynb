{
 "cells": [
  {
   "cell_type": "code",
   "execution_count": null,
   "id": "7f8a8ee5",
   "metadata": {},
   "outputs": [],
   "source": [
    "# pip install sentence_transformers"
   ]
  },
  {
   "cell_type": "code",
   "execution_count": 60,
   "id": "27d5af4f",
   "metadata": {},
   "outputs": [],
   "source": [
    "import numpy as np\n",
    "import pandas as pd\n",
    "from sklearn.metrics.pairwise import cosine_similarity\n",
    "from sentence_transformers import SentenceTransformer\n",
    "import json\n",
    "import pickle"
   ]
  },
  {
   "cell_type": "code",
   "execution_count": 161,
   "id": "c74fea04",
   "metadata": {},
   "outputs": [],
   "source": [
    "df = pd.read_csv('final_dataset_0.csv')"
   ]
  },
  {
   "cell_type": "code",
   "execution_count": 162,
   "id": "f08bfda7",
   "metadata": {},
   "outputs": [],
   "source": [
    "## load the embeddings pkl file\n",
    "with open('final_dataset_embeddings.pkl', 'rb') as f:\n",
    "    embeddings = pickle.load(f)"
   ]
  },
  {
   "cell_type": "code",
   "execution_count": 163,
   "id": "9ede61a7",
   "metadata": {},
   "outputs": [],
   "source": [
    "df['embeddings'] = embeddings"
   ]
  },
  {
   "cell_type": "code",
   "execution_count": 140,
   "id": "fd4385b8",
   "metadata": {},
   "outputs": [],
   "source": [
    "# Load the embeddings model\n",
    "model = SentenceTransformer('all-MiniLM-L6-v2')"
   ]
  },
  {
   "cell_type": "markdown",
   "id": "f8c027c3",
   "metadata": {},
   "source": [
    "Recommendation using Sentence Transformers"
   ]
  },
  {
   "cell_type": "code",
   "execution_count": 165,
   "id": "45e2a36a",
   "metadata": {},
   "outputs": [],
   "source": [
    "def get_recommendations(query, data=df, top_n=10):\n",
    "    # Compute the embedding for the query\n",
    "    query_embedding = model.encode(query)\n",
    "\n",
    "    # Calculate similarities and get top-N\n",
    "    sim_scores = data['embeddings'].apply(lambda x: cosine_similarity([query_embedding], [x]).flatten()[0])\n",
    "    top_indices = sim_scores.nlargest(top_n).index\n",
    "\n",
    "    return data.iloc[top_indices]"
   ]
  },
  {
   "cell_type": "code",
   "execution_count": 166,
   "id": "ff5dcca9",
   "metadata": {},
   "outputs": [],
   "source": [
    "def get_json_recommendations(query, df, top_n):\n",
    "    res = get_recommendations(query, df, top_n=10)\n",
    "    res = res.reset_index()\n",
    "    res = res.loc[:, ['article_id', 'prod_name', 'price']]\n",
    "    ## convert to json\n",
    "    res = res.to_json(orient='records')\n",
    "    return res"
   ]
  },
  {
   "cell_type": "code",
   "execution_count": 174,
   "id": "e13b52bc",
   "metadata": {},
   "outputs": [],
   "source": [
    "query = \"baby dress\"\n",
    "## convert string to json\n",
    "get = json.loads(get_json_recommendations(query, df, 10))"
   ]
  },
  {
   "cell_type": "code",
   "execution_count": 175,
   "id": "32c62666",
   "metadata": {},
   "outputs": [
    {
     "name": "stdout",
     "output_type": "stream",
     "text": [
      "[{'article_id': 814091002, 'prod_name': 'Nuria dress', 'price': 3999}, {'article_id': 809752002, 'prod_name': 'Doris dress', 'price': 3799}, {'article_id': 722911001, 'prod_name': 'Donna tassel dress', 'price': 3299}, {'article_id': 749513001, 'prod_name': 'HULDA dress - TVP', 'price': 5749}, {'article_id': 814091003, 'prod_name': 'Nuria dress', 'price': 9599}, {'article_id': 635040002, 'prod_name': 'GUGGENHEIM knitted dress', 'price': 9299}, {'article_id': 723652001, 'prod_name': 'BARBRO dress DENIM', 'price': 5349}, {'article_id': 695682001, 'prod_name': 'FLEUR dress', 'price': 6699}, {'article_id': 905853002, 'prod_name': 'Naomi fancy dress', 'price': 9149}, {'article_id': 629824002, 'prod_name': 'POLLY daycare dress TVP', 'price': 6949}]\n"
     ]
    }
   ],
   "source": [
    "print(get)"
   ]
  }
 ],
 "metadata": {
  "kernelspec": {
   "display_name": "Python 3 (ipykernel)",
   "language": "python",
   "name": "python3"
  },
  "language_info": {
   "codemirror_mode": {
    "name": "ipython",
    "version": 3
   },
   "file_extension": ".py",
   "mimetype": "text/x-python",
   "name": "python",
   "nbconvert_exporter": "python",
   "pygments_lexer": "ipython3",
   "version": "3.10.2"
  }
 },
 "nbformat": 4,
 "nbformat_minor": 5
}
